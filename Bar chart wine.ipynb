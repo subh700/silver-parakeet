{
 "cells": [
  {
   "cell_type": "code",
   "execution_count": 1,
   "metadata": {},
   "outputs": [
    {
     "name": "stdout",
     "output_type": "stream",
     "text": [
      "{'data': array([[1.423e+01, 1.710e+00, 2.430e+00, ..., 1.040e+00, 3.920e+00,\n",
      "        1.065e+03],\n",
      "       [1.320e+01, 1.780e+00, 2.140e+00, ..., 1.050e+00, 3.400e+00,\n",
      "        1.050e+03],\n",
      "       [1.316e+01, 2.360e+00, 2.670e+00, ..., 1.030e+00, 3.170e+00,\n",
      "        1.185e+03],\n",
      "       ...,\n",
      "       [1.327e+01, 4.280e+00, 2.260e+00, ..., 5.900e-01, 1.560e+00,\n",
      "        8.350e+02],\n",
      "       [1.317e+01, 2.590e+00, 2.370e+00, ..., 6.000e-01, 1.620e+00,\n",
      "        8.400e+02],\n",
      "       [1.413e+01, 4.100e+00, 2.740e+00, ..., 6.100e-01, 1.600e+00,\n",
      "        5.600e+02]]), 'target': array([0, 0, 0, 0, 0, 0, 0, 0, 0, 0, 0, 0, 0, 0, 0, 0, 0, 0, 0, 0, 0, 0,\n",
      "       0, 0, 0, 0, 0, 0, 0, 0, 0, 0, 0, 0, 0, 0, 0, 0, 0, 0, 0, 0, 0, 0,\n",
      "       0, 0, 0, 0, 0, 0, 0, 0, 0, 0, 0, 0, 0, 0, 0, 1, 1, 1, 1, 1, 1, 1,\n",
      "       1, 1, 1, 1, 1, 1, 1, 1, 1, 1, 1, 1, 1, 1, 1, 1, 1, 1, 1, 1, 1, 1,\n",
      "       1, 1, 1, 1, 1, 1, 1, 1, 1, 1, 1, 1, 1, 1, 1, 1, 1, 1, 1, 1, 1, 1,\n",
      "       1, 1, 1, 1, 1, 1, 1, 1, 1, 1, 1, 1, 1, 1, 1, 1, 1, 1, 1, 1, 2, 2,\n",
      "       2, 2, 2, 2, 2, 2, 2, 2, 2, 2, 2, 2, 2, 2, 2, 2, 2, 2, 2, 2, 2, 2,\n",
      "       2, 2, 2, 2, 2, 2, 2, 2, 2, 2, 2, 2, 2, 2, 2, 2, 2, 2, 2, 2, 2, 2,\n",
      "       2, 2]), 'frame': None, 'target_names': array(['class_0', 'class_1', 'class_2'], dtype='<U7'), 'DESCR': '.. _wine_dataset:\\n\\nWine recognition dataset\\n------------------------\\n\\n**Data Set Characteristics:**\\n\\n    :Number of Instances: 178 (50 in each of three classes)\\n    :Number of Attributes: 13 numeric, predictive attributes and the class\\n    :Attribute Information:\\n \\t\\t- Alcohol\\n \\t\\t- Malic acid\\n \\t\\t- Ash\\n\\t\\t- Alcalinity of ash  \\n \\t\\t- Magnesium\\n\\t\\t- Total phenols\\n \\t\\t- Flavanoids\\n \\t\\t- Nonflavanoid phenols\\n \\t\\t- Proanthocyanins\\n\\t\\t- Color intensity\\n \\t\\t- Hue\\n \\t\\t- OD280/OD315 of diluted wines\\n \\t\\t- Proline\\n\\n    - class:\\n            - class_0\\n            - class_1\\n            - class_2\\n\\t\\t\\n    :Summary Statistics:\\n    \\n    ============================= ==== ===== ======= =====\\n                                   Min   Max   Mean     SD\\n    ============================= ==== ===== ======= =====\\n    Alcohol:                      11.0  14.8    13.0   0.8\\n    Malic Acid:                   0.74  5.80    2.34  1.12\\n    Ash:                          1.36  3.23    2.36  0.27\\n    Alcalinity of Ash:            10.6  30.0    19.5   3.3\\n    Magnesium:                    70.0 162.0    99.7  14.3\\n    Total Phenols:                0.98  3.88    2.29  0.63\\n    Flavanoids:                   0.34  5.08    2.03  1.00\\n    Nonflavanoid Phenols:         0.13  0.66    0.36  0.12\\n    Proanthocyanins:              0.41  3.58    1.59  0.57\\n    Colour Intensity:              1.3  13.0     5.1   2.3\\n    Hue:                          0.48  1.71    0.96  0.23\\n    OD280/OD315 of diluted wines: 1.27  4.00    2.61  0.71\\n    Proline:                       278  1680     746   315\\n    ============================= ==== ===== ======= =====\\n\\n    :Missing Attribute Values: None\\n    :Class Distribution: class_0 (59), class_1 (71), class_2 (48)\\n    :Creator: R.A. Fisher\\n    :Donor: Michael Marshall (MARSHALL%PLU@io.arc.nasa.gov)\\n    :Date: July, 1988\\n\\nThis is a copy of UCI ML Wine recognition datasets.\\nhttps://archive.ics.uci.edu/ml/machine-learning-databases/wine/wine.data\\n\\nThe data is the results of a chemical analysis of wines grown in the same\\nregion in Italy by three different cultivators. There are thirteen different\\nmeasurements taken for different constituents found in the three types of\\nwine.\\n\\nOriginal Owners: \\n\\nForina, M. et al, PARVUS - \\nAn Extendible Package for Data Exploration, Classification and Correlation. \\nInstitute of Pharmaceutical and Food Analysis and Technologies,\\nVia Brigata Salerno, 16147 Genoa, Italy.\\n\\nCitation:\\n\\nLichman, M. (2013). UCI Machine Learning Repository\\n[https://archive.ics.uci.edu/ml]. Irvine, CA: University of California,\\nSchool of Information and Computer Science. \\n\\n.. topic:: References\\n\\n  (1) S. Aeberhard, D. Coomans and O. de Vel, \\n  Comparison of Classifiers in High Dimensional Settings, \\n  Tech. Rep. no. 92-02, (1992), Dept. of Computer Science and Dept. of  \\n  Mathematics and Statistics, James Cook University of North Queensland. \\n  (Also submitted to Technometrics). \\n\\n  The data was used with many others for comparing various \\n  classifiers. The classes are separable, though only RDA \\n  has achieved 100% correct classification. \\n  (RDA : 100%, QDA 99.4%, LDA 98.9%, 1NN 96.1% (z-transformed data)) \\n  (All results using the leave-one-out technique) \\n\\n  (2) S. Aeberhard, D. Coomans and O. de Vel, \\n  \"THE CLASSIFICATION PERFORMANCE OF RDA\" \\n  Tech. Rep. no. 92-01, (1992), Dept. of Computer Science and Dept. of \\n  Mathematics and Statistics, James Cook University of North Queensland. \\n  (Also submitted to Journal of Chemometrics).\\n', 'feature_names': ['alcohol', 'malic_acid', 'ash', 'alcalinity_of_ash', 'magnesium', 'total_phenols', 'flavanoids', 'nonflavanoid_phenols', 'proanthocyanins', 'color_intensity', 'hue', 'od280/od315_of_diluted_wines', 'proline']}\n"
     ]
    }
   ],
   "source": [
    "from sklearn.datasets import load_wine\n",
    "d = load_wine()\n",
    "print(d)\n",
    " \n",
    "x=d.data\n",
    "y=d.target"
   ]
  },
  {
   "cell_type": "code",
   "execution_count": 2,
   "metadata": {},
   "outputs": [
    {
     "name": "stdout",
     "output_type": "stream",
     "text": [
      "[0.66666667 0.61111111 0.66666667 0.66666667 0.66666667 0.66666667\n",
      " 0.72222222 0.77777778 0.88235294 0.88235294]\n",
      "[0.7209150326797386]\n"
     ]
    }
   ],
   "source": [
    "acc=[]\n",
    "\n",
    "from sklearn.neighbors import KNeighborsClassifier\n",
    "c1f1 = KNeighborsClassifier(n_neighbors=3)\n",
    "c1f1.fit(x, y)\n",
    "\n",
    "from sklearn.model_selection import cross_val_score\n",
    "scores1 = cross_val_score(c1f1,x,y,cv=10)\n",
    "print(scores1)\n",
    "\n",
    "import statistics\n",
    "acc.append(statistics.mean(scores1))\n",
    "print(acc)\n"
   ]
  },
  {
   "cell_type": "code",
   "execution_count": 3,
   "metadata": {},
   "outputs": [
    {
     "name": "stdout",
     "output_type": "stream",
     "text": [
      "[0.88888889 0.94444444 0.88888889 0.94444444 0.94444444 0.94444444\n",
      " 1.         1.         1.         1.        ]\n",
      "[0.7209150326797386, 0.9555555555555555]\n"
     ]
    }
   ],
   "source": [
    "from sklearn import svm\n",
    "c1f2 = svm.SVC(kernel='linear')\n",
    "c1f2.fit(x,y)\n",
    "\n",
    "from sklearn.model_selection import cross_val_score\n",
    "scores2 = cross_val_score(c1f2,x,y,cv=10)\n",
    "print(scores2)\n",
    "\n",
    "import statistics\n",
    "acc.append(statistics.mean(scores2))\n",
    "print(acc)"
   ]
  },
  {
   "cell_type": "code",
   "execution_count": 4,
   "metadata": {},
   "outputs": [
    {
     "name": "stdout",
     "output_type": "stream",
     "text": [
      "[0.88888889 0.88888889 0.66666667 0.88888889 0.83333333 0.83333333\n",
      " 1.         0.94444444 0.94117647 0.76470588]\n",
      "[0.7209150326797386, 0.9555555555555555, 0.8650326797385621]\n"
     ]
    }
   ],
   "source": [
    "from sklearn.tree import DecisionTreeClassifier\n",
    "c1f3 = DecisionTreeClassifier()\n",
    "c1f3.fit(x,y)\n",
    "\n",
    "from sklearn.model_selection import cross_val_score\n",
    "scores3 = cross_val_score (c1f3, x,y,cv=10)\n",
    "print(scores3)\n",
    "\n",
    "import statistics\n",
    "acc.append(statistics.mean(scores3))\n",
    "print(acc)"
   ]
  },
  {
   "cell_type": "code",
   "execution_count": 12,
   "metadata": {},
   "outputs": [
    {
     "data": {
      "image/png": "[encoded data removed]",
      "text/plain": [
       "<Figure size 288x288 with 1 Axes>"
      ]
     },
     "metadata": {
      "needs_background": "light"
     },
     "output_type": "display_data"
    }
   ],
   "source": [
    "import matplotlib.pyplot as plt\n",
    "data = {'knn':0.7209150326797386*100,'svm': 0.9555555555555555*100,'dt': 0.8705882352941177*100}\n",
    "classifiers = list(data.keys())\n",
    "accuracy = list(data.values())\n",
    "\n",
    "# creating the bar\n",
    "plt.figure(figsize=(4,4))\n",
    "plt.bar (classifiers, accuracy, color='maroon',width=0.6)\n",
    "\n",
    "plt.bar(classifiers,accuracy,color=['firebrick','green','blue','red','purple','skyblue'])\n",
    "plt.ylim(10,100)\n",
    "\n",
    "plt.ylabel('classification Accuracy %')\n",
    "plt.xlabel('classifier')\n",
    "plt.title(\"Bar plot for classifier performance comparision\")\n",
    "plt.show()"
   ]
  },
  {
   "cell_type": "code",
   "execution_count": 14,
   "metadata": {},
   "outputs": [
    {
     "ename": "NameError",
     "evalue": "name 'x' is not defined",
     "output_type": "error",
     "traceback": [
      "\u001b[0;31m---------------------------------------------------------------------------\u001b[0m",
      "\u001b[0;31mNameError\u001b[0m                                 Traceback (most recent call last)",
      "\u001b[1;32m/home/tg/Videos/silver-parakeet/Bar chart wine.ipynb Cell 6'\u001b[0m in \u001b[0;36m<cell line: 3>\u001b[0;34m()\u001b[0m\n\u001b[1;32m      <a href='vscode-notebook-cell:/home/tg/Videos/silver-parakeet/Bar%20chart%20wine.ipynb#ch0000008?line=0'>1</a>\u001b[0m \u001b[39mfrom\u001b[39;00m \u001b[39msklearn\u001b[39;00m\u001b[39m.\u001b[39;00m\u001b[39mlinear_model\u001b[39;00m \u001b[39mimport\u001b[39;00m LogisticRegression\n\u001b[1;32m      <a href='vscode-notebook-cell:/home/tg/Videos/silver-parakeet/Bar%20chart%20wine.ipynb#ch0000008?line=1'>2</a>\u001b[0m c1f4\u001b[39m=\u001b[39mLogisticRegression(multi_class\u001b[39m=\u001b[39m\u001b[39m'\u001b[39m\u001b[39mmultinomial\u001b[39m\u001b[39m'\u001b[39m,random_state\u001b[39m=\u001b[39m\u001b[39m1\u001b[39m)\n\u001b[0;32m----> <a href='vscode-notebook-cell:/home/tg/Videos/silver-parakeet/Bar%20chart%20wine.ipynb#ch0000008?line=2'>3</a>\u001b[0m c1f4\u001b[39m.\u001b[39mfit(x,y)\n\u001b[1;32m      <a href='vscode-notebook-cell:/home/tg/Videos/silver-parakeet/Bar%20chart%20wine.ipynb#ch0000008?line=4'>5</a>\u001b[0m \u001b[39mfrom\u001b[39;00m \u001b[39msklearn\u001b[39;00m\u001b[39m.\u001b[39;00m\u001b[39mmodel_selection\u001b[39;00m \u001b[39mimport\u001b[39;00m cross_val_score\n\u001b[1;32m      <a href='vscode-notebook-cell:/home/tg/Videos/silver-parakeet/Bar%20chart%20wine.ipynb#ch0000008?line=5'>6</a>\u001b[0m \u001b[39mfrom\u001b[39;00m \u001b[39msklearn\u001b[39;00m \u001b[39mimport\u001b[39;00m metrics\n",
      "\u001b[0;31mNameError\u001b[0m: name 'x' is not defined"
     ]
    }
   ],
   "source": [
    "from sklearn.linear_model import LogisticRegression\n",
    "c1f4=LogisticRegression(multi_class='multinomial',random_state=1)\n",
    "c1f4.fit(x,y)\n",
    "\n",
    "from sklearn.model_selection import cross_val_score\n",
    "from sklearn import metrics\n",
    "scores4 = cross_val_score(c1f4,x,y,cv=10)\n",
    "print(sorted(scores4))\n",
    "\n",
    "\n",
    "from sklearn.model_selection import cross_val_predict\n",
    "y_pred4=cross_val_predict(c1f4,x,y,cv=10)\n",
    "print(y_pred4)\n",
    "\n",
    "import statistics\n",
    "acc.append(statistics.mean(scores4))\n",
    "print(acc)"
   ]
  },
  {
   "cell_type": "code",
   "execution_count": 15,
   "metadata": {},
   "outputs": [
    {
     "ename": "NameError",
     "evalue": "name 'x' is not defined",
     "output_type": "error",
     "traceback": [
      "\u001b[0;31m---------------------------------------------------------------------------\u001b[0m",
      "\u001b[0;31mNameError\u001b[0m                                 Traceback (most recent call last)",
      "\u001b[1;32m/home/tg/Videos/silver-parakeet/Bar chart wine.ipynb Cell 7'\u001b[0m in \u001b[0;36m<cell line: 3>\u001b[0;34m()\u001b[0m\n\u001b[1;32m      <a href='vscode-notebook-cell:/home/tg/Videos/silver-parakeet/Bar%20chart%20wine.ipynb#ch0000009?line=0'>1</a>\u001b[0m \u001b[39mfrom\u001b[39;00m \u001b[39msklearn\u001b[39;00m\u001b[39m.\u001b[39;00m\u001b[39mnaive_bayes\u001b[39;00m \u001b[39mimport\u001b[39;00m GaussianNB\n\u001b[1;32m      <a href='vscode-notebook-cell:/home/tg/Videos/silver-parakeet/Bar%20chart%20wine.ipynb#ch0000009?line=1'>2</a>\u001b[0m clf5\u001b[39m=\u001b[39mGaussianNB()\n\u001b[0;32m----> <a href='vscode-notebook-cell:/home/tg/Videos/silver-parakeet/Bar%20chart%20wine.ipynb#ch0000009?line=2'>3</a>\u001b[0m clf5\u001b[39m.\u001b[39mfit(x, y)\n\u001b[1;32m      <a href='vscode-notebook-cell:/home/tg/Videos/silver-parakeet/Bar%20chart%20wine.ipynb#ch0000009?line=4'>5</a>\u001b[0m \u001b[39mfrom\u001b[39;00m \u001b[39msklearn\u001b[39;00m\u001b[39m.\u001b[39;00m\u001b[39mmodel_selection\u001b[39;00m \u001b[39mimport\u001b[39;00m cross_val_score\n\u001b[1;32m      <a href='vscode-notebook-cell:/home/tg/Videos/silver-parakeet/Bar%20chart%20wine.ipynb#ch0000009?line=5'>6</a>\u001b[0m \u001b[39mfrom\u001b[39;00m \u001b[39msklearn\u001b[39;00m \u001b[39mimport\u001b[39;00m metrics\n",
      "\u001b[0;31mNameError\u001b[0m: name 'x' is not defined"
     ]
    }
   ],
   "source": [
    "from sklearn.naive_bayes import GaussianNB\n",
    "clf5=GaussianNB()\n",
    "clf5.fit(x, y)\n",
    "\n",
    "from sklearn.model_selection import cross_val_score\n",
    "from sklearn import metrics\n",
    "scores5 = cross_val_score(clf5,x,y,cv=10)\n",
    "print(scores5)\n",
    "\n",
    "from sklearn.model_selection import cross_val_predict\n",
    "y_pred5 = cross_val_predict(clf5, x, y, cv=10)\n",
    "print(y_pred5)\n",
    "\n",
    "import statistics\n",
    "acc.append(statistics.mean(scores5))\n",
    "print(acc)"
   ]
  }
 ],
 "metadata": {
  "interpreter": {
   "hash": "916dbcbb3f70747c44a77c7bcd40155683ae19c65e1c03b4aa3499c5328201f1"
  },
  "kernelspec": {
   "display_name": "Python 3.9.12 64-bit",
   "language": "python",
   "name": "python3"
  },
  "language_info": {
   "codemirror_mode": {
    "name": "ipython",
    "version": 3
   },
   "file_extension": ".py",
   "mimetype": "text/x-python",
   "name": "python",
   "nbconvert_exporter": "python",
   "pygments_lexer": "ipython3",
   "version": "3.9.12"
  },
  "orig_nbformat": 4
 },
 "nbformat": 4,
 "nbformat_minor": 2
}
